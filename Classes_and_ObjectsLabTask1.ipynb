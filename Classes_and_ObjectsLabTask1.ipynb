{
  "nbformat": 4,
  "nbformat_minor": 0,
  "metadata": {
    "colab": {
      "provenance": [],
      "authorship_tag": "ABX9TyPFwDPJ2T6t2HfavvgcBUgl",
      "include_colab_link": true
    },
    "kernelspec": {
      "name": "python3",
      "display_name": "Python 3"
    },
    "language_info": {
      "name": "python"
    }
  },
  "cells": [
    {
      "cell_type": "markdown",
      "metadata": {
        "id": "view-in-github",
        "colab_type": "text"
      },
      "source": [
        "<a href=\"https://colab.research.google.com/github/zainikhan999/Zainab_Khan_Ai_Collab_Notebooks_CS6/blob/main/Classes_and_ObjectsLabTask1.ipynb\" target=\"_parent\"><img src=\"https://colab.research.google.com/assets/colab-badge.svg\" alt=\"Open In Colab\"/></a>"
      ]
    },
    {
      "cell_type": "code",
      "execution_count": null,
      "metadata": {
        "colab": {
          "base_uri": "https://localhost:8080/"
        },
        "id": "bkbkpmCnSXnE",
        "outputId": "9f33648f-5578-42c4-fbd8-c99a40aaaeeb"
      },
      "outputs": [
        {
          "output_type": "stream",
          "name": "stdout",
          "text": [
            "Enter a number: 3\n",
            "square of number is9\n"
          ]
        }
      ],
      "source": [
        "def function(n):\n",
        "  n=n*n\n",
        "  return n\n",
        "num=int(input(\"Enter a number: \"))\n",
        "n=function(num)\n",
        "print (f\"square of number is{n}\")"
      ]
    },
    {
      "cell_type": "code",
      "source": [
        "def factorial(n):\n",
        "  fac=1\n",
        "  for i in range(1,n+1):\n",
        "    fac=fac*i\n",
        "  return fac\n",
        "num=int(input(\"Enter a number: \"))\n",
        "n=factorial(num)\n",
        "print (f\"factorial of number is{n}\")"
      ],
      "metadata": {
        "colab": {
          "base_uri": "https://localhost:8080/"
        },
        "id": "RV5xk-qmSwqL",
        "outputId": "2810e28b-cc9e-4b49-fd31-664d339467a4"
      },
      "execution_count": null,
      "outputs": [
        {
          "output_type": "stream",
          "name": "stdout",
          "text": [
            "Enter a number: 2\n",
            "factorial of number is2\n"
          ]
        }
      ]
    },
    {
      "cell_type": "code",
      "source": [
        "list=[\"apple\",\"mango\",\"banana\"]\n",
        "def function(list):\n",
        "  for x in list:\n",
        "    # print(x)\n",
        "    # print(list)\n",
        "    print(list,end=\"\")\n",
        "\n",
        "function(list)"
      ],
      "metadata": {
        "colab": {
          "base_uri": "https://localhost:8080/"
        },
        "id": "84XQ2M60TXVv",
        "outputId": "3ad6cb3e-0e58-428e-e99c-ee65c2efca97"
      },
      "execution_count": null,
      "outputs": [
        {
          "output_type": "stream",
          "name": "stdout",
          "text": [
            "['apple', 'mango', 'banana']['apple', 'mango', 'banana']['apple', 'mango', 'banana']"
          ]
        }
      ]
    },
    {
      "cell_type": "code",
      "source": [
        "class person:\n",
        "  name=\"zainab\"\n",
        "p1=person()\n",
        "print(p1.name)"
      ],
      "metadata": {
        "colab": {
          "base_uri": "https://localhost:8080/"
        },
        "id": "95Xd3-6wT4K9",
        "outputId": "a427556d-7147-4699-c2ef-200950c6cc5c"
      },
      "execution_count": null,
      "outputs": [
        {
          "output_type": "stream",
          "name": "stdout",
          "text": [
            "zainab\n"
          ]
        }
      ]
    },
    {
      "cell_type": "code",
      "source": [
        "class person:\n",
        "  def __init__(self) :\n",
        "    print(\"i am constructor\")\n",
        "p1=person()\n",
        "p2=person()\n",
        "p3=person()\n",
        "print(p1)\n",
        "print(p2)\n",
        "print(p3)\n",
        "# CONSTRUCTOR AUTOMATICALLY CALLED"
      ],
      "metadata": {
        "colab": {
          "base_uri": "https://localhost:8080/"
        },
        "id": "UqvSHX3NU0yU",
        "outputId": "bce83803-d05b-4407-febf-65c16ff91650"
      },
      "execution_count": null,
      "outputs": [
        {
          "output_type": "stream",
          "name": "stdout",
          "text": [
            "i am constructor\n",
            "i am constructor\n",
            "i am constructor\n",
            "<__main__.person object at 0x7a866c982470>\n",
            "<__main__.person object at 0x7a866c983400>\n",
            "<__main__.person object at 0x7a866c983bb0>\n"
          ]
        }
      ]
    },
    {
      "cell_type": "code",
      "source": [
        "class Person:\n",
        "  def __init__(self, name, age):\n",
        "    self.name = name\n",
        "    self.age = age\n",
        "\n",
        "p1 = Person(\"John\", 36)\n",
        "\n",
        "print(p1.name)\n",
        "print(p1.age)\n"
      ],
      "metadata": {
        "colab": {
          "base_uri": "https://localhost:8080/"
        },
        "id": "bNmoz7aqVipO",
        "outputId": "1feb9cc8-b72d-4c43-c693-fde7c03a1ab5"
      },
      "execution_count": null,
      "outputs": [
        {
          "output_type": "stream",
          "name": "stdout",
          "text": [
            "John\n",
            "36\n"
          ]
        }
      ]
    },
    {
      "cell_type": "code",
      "source": [
        "class person:\n",
        "  def __init__(self, fname, lname):\n",
        "    self.fname = fname\n",
        "    self.lname = lname\n",
        "    print(self.fname,self.lname)\n",
        "\n",
        "class child(person):\n",
        "     def __init__(self, fname, lname):\n",
        "        super().__init__(fname, lname)\n",
        "c1=child('zainab','khan')\n",
        "\n"
      ],
      "metadata": {
        "colab": {
          "base_uri": "https://localhost:8080/"
        },
        "id": "m89CWTSgV99F",
        "outputId": "a09ef00b-6d24-4fce-f1da-79a6016a7e0f"
      },
      "execution_count": null,
      "outputs": [
        {
          "output_type": "stream",
          "name": "stdout",
          "text": [
            "zainab khan\n"
          ]
        }
      ]
    },
    {
      "cell_type": "code",
      "source": [
        "class Person:\n",
        "  def __init__(self, name, age):\n",
        "    self.name = name\n",
        "    self.age = age\n",
        "  def printname(self):\n",
        "    print(self.name, self.age)\n",
        "\n",
        "class child(person):\n",
        "     def __init__(self, fname, lname,year):\n",
        "        super().__init__(fname, lname)\n",
        "        self.year=year\n",
        "c1=child('zainab','khan',2023)\n",
        "p1 = Person(\"John\", 36)\n",
        "p1.printname()\n"
      ],
      "metadata": {
        "colab": {
          "base_uri": "https://localhost:8080/"
        },
        "id": "wWQTeJ5yY0Gj",
        "outputId": "b2d47640-2a45-4a86-db11-6f097d2797e8"
      },
      "execution_count": null,
      "outputs": [
        {
          "output_type": "stream",
          "name": "stdout",
          "text": [
            "zainab khan\n",
            "John 36\n"
          ]
        }
      ]
    },
    {
      "cell_type": "code",
      "source": [
        "class Person:\n",
        "  def __init__(self, fname, lname):\n",
        "    self.firstname = fname\n",
        "    self.lastname = lname\n",
        "\n",
        "  def printname(self):\n",
        "    print(self.firstname, self.lastname)\n",
        "\n",
        "class Student(Person):\n",
        "  def __init__(self, fname, lname):\n",
        "    super().__init__(fname, lname)\n",
        "\n",
        "x = Student(\"Mike\", \"Olsen\")\n",
        "x.printname()\n"
      ],
      "metadata": {
        "id": "LicYki5WapbD",
        "colab": {
          "base_uri": "https://localhost:8080/"
        },
        "outputId": "201231dd-9b6b-4d01-e1b3-2726eeda84be"
      },
      "execution_count": null,
      "outputs": [
        {
          "output_type": "stream",
          "name": "stdout",
          "text": [
            "Mike Olsen\n"
          ]
        }
      ]
    },
    {
      "cell_type": "code",
      "source": [
        "class Car:\n",
        "  def __init__(self, brand, model):\n",
        "    self.brand = brand\n",
        "    self.model = model\n",
        "\n",
        "  def move(self):\n",
        "    print(\"Drive!\")\n",
        "\n",
        "class Boat:\n",
        "  def __init__(self, brand, model):\n",
        "    self.brand = brand\n",
        "    self.model = model\n",
        "\n",
        "  def move(self):\n",
        "    print(\"Sail!\")\n",
        "\n",
        "class Plane:\n",
        "  def __init__(self, brand, model):\n",
        "    self.brand = brand\n",
        "    self.model = model\n",
        "\n",
        "  def move(self):\n",
        "    print(\"Fly!\")\n",
        "\n",
        "car1 = Car(\"Ford\", \"Mustang\")       #Create a Car class\n",
        "boat1 = Boat(\"Ibiza\", \"Touring 20\") #Create a Boat class\n",
        "plane1 = Plane(\"Boeing\", \"747\")     #Create a Plane class\n",
        "\n",
        "for x in (car1, boat1, plane1):\n",
        "  x.move()"
      ],
      "metadata": {
        "colab": {
          "base_uri": "https://localhost:8080/"
        },
        "id": "uBDyOwtpdrSY",
        "outputId": "8f3c59b2-57ba-401e-e824-73b165053417"
      },
      "execution_count": null,
      "outputs": [
        {
          "output_type": "stream",
          "name": "stdout",
          "text": [
            "Drive!\n",
            "Sail!\n",
            "Fly!\n"
          ]
        }
      ]
    },
    {
      "cell_type": "code",
      "source": [
        "class Vehicle:\n",
        "  def __init__(self, brand, model):\n",
        "    self.brand = brand\n",
        "    self.model = model\n",
        "\n",
        "  def move(self):\n",
        "    print(\"Move!\")\n",
        "\n",
        "class Car(Vehicle):\n",
        "  pass\n",
        "\n",
        "class Boat(Vehicle):\n",
        "  def move(self):\n",
        "    print(\"Sail!\")\n",
        "\n",
        "class Plane(Vehicle):\n",
        "  def move(self):\n",
        "    print(\"Fly!\")\n",
        "\n",
        "car1 = Car(\"Ford\", \"Mustang\") #Create a Car object\n",
        "boat1 = Boat(\"Ibiza\", \"Touring 20\") #Create a Boat object\n",
        "plane1 = Plane(\"Boeing\", \"747\") #Create a Plane object\n",
        "\n",
        "for x in (car1, boat1, plane1):\n",
        "  print(x.brand)\n",
        "  print(x.model)\n",
        "  x.move()"
      ],
      "metadata": {
        "colab": {
          "base_uri": "https://localhost:8080/"
        },
        "id": "3KlBSBjxeLCd",
        "outputId": "91780d62-2d57-4795-db8f-5d9675c141a7"
      },
      "execution_count": null,
      "outputs": [
        {
          "output_type": "stream",
          "name": "stdout",
          "text": [
            "Ford\n",
            "Mustang\n",
            "Move!\n",
            "Ibiza\n",
            "Touring 20\n",
            "Sail!\n",
            "Boeing\n",
            "747\n",
            "Fly!\n"
          ]
        }
      ]
    },
    {
      "cell_type": "markdown",
      "source": [
        "# Classes and Objects Lab\n"
      ],
      "metadata": {
        "id": "1TyeOSBlxw8W"
      }
    },
    {
      "cell_type": "code",
      "source": [
        "# Question 1:\n",
        "numberList=[1,2,3,4,5]\n",
        "def function(numberList):\n",
        "  sum=0\n",
        "  for x in numberList:\n",
        "       sum= sum+x\n",
        "  return sum\n",
        "\n",
        "function(numberList)\n"
      ],
      "metadata": {
        "colab": {
          "base_uri": "https://localhost:8080/"
        },
        "id": "0EFHXAkfeT8o",
        "outputId": "0240d9d9-aff9-483a-e1d2-2a04d7ba31b2"
      },
      "execution_count": null,
      "outputs": [
        {
          "output_type": "execute_result",
          "data": {
            "text/plain": [
              "15"
            ]
          },
          "metadata": {},
          "execution_count": 43
        }
      ]
    },
    {
      "cell_type": "code",
      "source": [
        "# Question 2:\n",
        "def function(rollNum):\n",
        "  # this attendence shows roll numbers in a list\n",
        "  attendence=[3,9,5,3]\n",
        "  for x in attendence:\n",
        "    if x==rollNum:\n",
        "      return (print(\"the student is present\"))\n",
        "    else:\n",
        "      return(print(\"not present\"))\n",
        "\n",
        "user=int(input(\"enter roll number:\"))\n",
        "function(user)\n",
        "\n",
        "\n"
      ],
      "metadata": {
        "colab": {
          "base_uri": "https://localhost:8080/"
        },
        "id": "xYECHxKJfi_I",
        "outputId": "16da95e5-4c1a-45c2-ad9f-a5a38e3d0e90"
      },
      "execution_count": null,
      "outputs": [
        {
          "output_type": "stream",
          "name": "stdout",
          "text": [
            "enter roll number:67\n",
            "not present\n"
          ]
        }
      ]
    },
    {
      "cell_type": "code",
      "source": [
        "# Question 3:\n",
        "class Car:\n",
        "  def __init__(self,name,color):\n",
        "     self.name=name\n",
        "     self.color=color\n",
        "     print(self.name)\n",
        "     print(self.color)\n",
        "\n",
        "c1=Car(\"Mehran\",\"black\")\n",
        "c2=Car(\"ferrari\",\"yellow\")\n",
        "print(c2.name,c2.color)\n",
        "# assigning new values\n",
        "c1.name=\"Mustang\"\n",
        "c1.color=\"black\"\n",
        "print(c1.name , c1.color)\n",
        "\n"
      ],
      "metadata": {
        "colab": {
          "base_uri": "https://localhost:8080/"
        },
        "id": "NT4hYbjTg2cQ",
        "outputId": "939179fa-3c67-4b4c-b6c0-fad5743e3ba9"
      },
      "execution_count": null,
      "outputs": [
        {
          "output_type": "stream",
          "name": "stdout",
          "text": [
            "Mehran\n",
            "black\n",
            "ferrari\n",
            "yellow\n",
            "ferrari yellow\n",
            "Mustang black\n"
          ]
        }
      ]
    },
    {
      "cell_type": "code",
      "source": [
        "# Question 4:\n",
        "class Person:\n",
        "  def __init__(self,name, age):\n",
        "    self.name=name\n",
        "    self.age=age\n",
        "\n",
        "\n",
        "\n",
        "p1=Person(\"zainab\",\"22\")\n",
        "p2=Person(\"Bushra\",\"23\")\n",
        "print(p1.name,p2.name)\n",
        "\n",
        "\n"
      ],
      "metadata": {
        "colab": {
          "base_uri": "https://localhost:8080/"
        },
        "id": "LkBcUUGuhb6Y",
        "outputId": "61c94fe7-9b2b-4583-d6e1-aba2e96e5129"
      },
      "execution_count": null,
      "outputs": [
        {
          "output_type": "stream",
          "name": "stdout",
          "text": [
            "zainab Bushra\n"
          ]
        }
      ]
    },
    {
      "cell_type": "code",
      "source": [
        "# Question 5:\n",
        "class Student:\n",
        "  def __init__(self,name,age,list):\n",
        "    self.name=name\n",
        "    self.age=age\n",
        "    self.grades=grades\n",
        "  def averageGrade(self):\n",
        "    sum=0\n",
        "    count=0\n",
        "    average=0\n",
        "    for x in grades:\n",
        "      count=count+1\n",
        "      sum =sum + x\n",
        "    average=sum/count\n",
        "    int(average)\n",
        "    return average\n",
        "# this is list of grades\n",
        "grades=[1,2,3,4]\n",
        "s1=Student(\"zainab\",\"22\",grades)\n",
        "s1.grades\n",
        "s1.averageGrade()"
      ],
      "metadata": {
        "colab": {
          "base_uri": "https://localhost:8080/"
        },
        "id": "XLyep4WziKy0",
        "outputId": "0d7ff876-70f1-41e5-b1a2-f7f9f9ce18a3"
      },
      "execution_count": null,
      "outputs": [
        {
          "output_type": "execute_result",
          "data": {
            "text/plain": [
              "2.5"
            ]
          },
          "metadata": {},
          "execution_count": 72
        }
      ]
    },
    {
      "cell_type": "code",
      "source": [],
      "metadata": {
        "id": "Znp4TbJVjbBg"
      },
      "execution_count": null,
      "outputs": []
    }
  ]
}