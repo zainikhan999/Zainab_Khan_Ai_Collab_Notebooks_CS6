{
  "nbformat": 4,
  "nbformat_minor": 0,
  "metadata": {
    "colab": {
      "provenance": [],
      "authorship_tag": "ABX9TyODiJHgYaknHB3uacQ0zQFn",
      "include_colab_link": true
    },
    "kernelspec": {
      "name": "python3",
      "display_name": "Python 3"
    },
    "language_info": {
      "name": "python"
    }
  },
  "cells": [
    {
      "cell_type": "markdown",
      "metadata": {
        "id": "view-in-github",
        "colab_type": "text"
      },
      "source": [
        "<a href=\"https://colab.research.google.com/github/zainikhan999/Zainab_Khan_Ai_Collab_Notebooks_CS6/blob/main/LabTask5.ipynb\" target=\"_parent\"><img src=\"https://colab.research.google.com/assets/colab-badge.svg\" alt=\"Open In Colab\"/></a>"
      ]
    },
    {
      "cell_type": "markdown",
      "source": [
        "# This file has both the lab work and lab tasks\n",
        "\n"
      ],
      "metadata": {
        "id": "mu1Re3mKw2Mg"
      }
    },
    {
      "cell_type": "code",
      "execution_count": null,
      "metadata": {
        "colab": {
          "base_uri": "https://localhost:8080/"
        },
        "id": "WX95_Zy_1LMA",
        "outputId": "888b222d-bdf0-4617-cdee-e23782465930"
      },
      "outputs": [
        {
          "output_type": "stream",
          "name": "stdout",
          "text": [
            "num is odd\n"
          ]
        }
      ],
      "source": [
        "num=95;\n",
        "if (num%2==0):\n",
        "  print(\"num is even\")\n",
        "else :\n",
        "  print(\"num is odd\")"
      ]
    },
    {
      "cell_type": "code",
      "source": [
        "# 1.\tWrite a program that calculates the sum of all even numbers from 1 to 20 using a for loop.\n",
        "sum = 0\n",
        "for i in range(1, 21):\n",
        "    if i % 2 == 0:\n",
        "        sum = sum + i\n",
        "print(\"The sum of all even numbers from 1 to 20 is:\", sum)"
      ],
      "metadata": {
        "id": "-6NSfEDK1Uwt",
        "colab": {
          "base_uri": "https://localhost:8080/"
        },
        "outputId": "db3fef8e-c086-4a9e-e27f-d35e491702e4"
      },
      "execution_count": null,
      "outputs": [
        {
          "output_type": "stream",
          "name": "stdout",
          "text": [
            "The sum of all even numbers from 1 to 20 is: 110\n"
          ]
        }
      ]
    },
    {
      "cell_type": "code",
      "source": [
        "# 3.\tExtend the first list with elements from the second list.\n",
        "list1=[9,35,343]\n",
        "list2=[45,4545,323]\n",
        "list1.extend(list2)\n"
      ],
      "metadata": {
        "id": "pCp7mTKa2xOY"
      },
      "execution_count": null,
      "outputs": []
    },
    {
      "cell_type": "markdown",
      "source": [
        "# Numpy array"
      ],
      "metadata": {
        "id": "-FE3n8lXLC9p"
      }
    },
    {
      "cell_type": "code",
      "source": [
        "import numpy as np"
      ],
      "metadata": {
        "id": "lbQVtyZA26_k"
      },
      "execution_count": null,
      "outputs": []
    },
    {
      "cell_type": "code",
      "source": [
        "arr=np.array([1,2,3,4,5])\n",
        "print(arr)"
      ],
      "metadata": {
        "colab": {
          "base_uri": "https://localhost:8080/"
        },
        "id": "jdjqTaYXLMVw",
        "outputId": "15aeeb54-ed05-422d-d309-5a59370832d6"
      },
      "execution_count": null,
      "outputs": [
        {
          "output_type": "stream",
          "name": "stdout",
          "text": [
            "[1 2 3 4 5]\n"
          ]
        }
      ]
    },
    {
      "cell_type": "code",
      "source": [
        "print(arr[1])"
      ],
      "metadata": {
        "colab": {
          "base_uri": "https://localhost:8080/"
        },
        "id": "bR8mtiUmLQSS",
        "outputId": "41c51704-381b-47e5-f64f-48601f50e32f"
      },
      "execution_count": null,
      "outputs": [
        {
          "output_type": "stream",
          "name": "stdout",
          "text": [
            "2\n"
          ]
        }
      ]
    },
    {
      "cell_type": "code",
      "source": [
        "list=[1,2,3,4,5]\n",
        "arr=np.array(list)\n",
        "print(arr)"
      ],
      "metadata": {
        "colab": {
          "base_uri": "https://localhost:8080/"
        },
        "id": "PJKWk79ZLSYf",
        "outputId": "54736f14-4d84-4148-d6e0-a71d0031cb4d"
      },
      "execution_count": null,
      "outputs": [
        {
          "output_type": "stream",
          "name": "stdout",
          "text": [
            "[1 2 3 4 5]\n"
          ]
        }
      ]
    },
    {
      "cell_type": "code",
      "source": [
        "# range from 1-10, last will be ommitted\n",
        "arr=np.arange(1,10)\n",
        "print(arr)"
      ],
      "metadata": {
        "colab": {
          "base_uri": "https://localhost:8080/"
        },
        "id": "znhJ-9tTLwu8",
        "outputId": "5ab40d52-6103-4795-ca08-a9f027b762bc"
      },
      "execution_count": null,
      "outputs": [
        {
          "output_type": "stream",
          "name": "stdout",
          "text": [
            "[1 2 3 4 5 6 7 8 9]\n"
          ]
        }
      ]
    },
    {
      "cell_type": "code",
      "source": [
        "app=np.array([1,2,3,4,5],dtype=float)\n",
        "print(app)\n",
        "print(app.dtype)"
      ],
      "metadata": {
        "colab": {
          "base_uri": "https://localhost:8080/"
        },
        "id": "TF_n5X4LMG9G",
        "outputId": "6757cbd3-6a17-4bf3-adf8-04ebfcb03e29"
      },
      "execution_count": null,
      "outputs": [
        {
          "output_type": "stream",
          "name": "stdout",
          "text": [
            "[1. 2. 3. 4. 5.]\n",
            "float64\n"
          ]
        }
      ]
    },
    {
      "cell_type": "code",
      "source": [
        "app=np.array([1,2,3,4,5],dtype=float)\n",
        "# print(app)\n",
        "print(app.dtype)\n",
        "# astypes convert orignal to bool , dtype is attribute\n",
        "print(app.astype(bool))\n"
      ],
      "metadata": {
        "colab": {
          "base_uri": "https://localhost:8080/"
        },
        "id": "xniAyFODMosb",
        "outputId": "c6724140-99df-4f65-e4e3-a0bb1043130e"
      },
      "execution_count": null,
      "outputs": [
        {
          "output_type": "stream",
          "name": "stdout",
          "text": [
            "float64\n",
            "[ True  True  True  True  True]\n"
          ]
        }
      ]
    },
    {
      "cell_type": "markdown",
      "source": [
        "# Arrays"
      ],
      "metadata": {
        "id": "Jq6Cgc41N62f"
      }
    },
    {
      "cell_type": "code",
      "source": [
        "# 0-d array\n",
        "print(np.array(42))"
      ],
      "metadata": {
        "colab": {
          "base_uri": "https://localhost:8080/"
        },
        "id": "kE8ASmLXN6TG",
        "outputId": "d2f33d9b-4307-47cb-969a-d8cef422303f"
      },
      "execution_count": null,
      "outputs": [
        {
          "output_type": "stream",
          "name": "stdout",
          "text": [
            "42\n"
          ]
        }
      ]
    },
    {
      "cell_type": "code",
      "source": [
        "# 1-d array\n",
        "arr=np.array([1,2,3,4,5])\n",
        "print(arr)"
      ],
      "metadata": {
        "colab": {
          "base_uri": "https://localhost:8080/"
        },
        "id": "ILl8KNANNQqH",
        "outputId": "208444f3-1bf0-492f-e230-260783893b7d"
      },
      "execution_count": null,
      "outputs": [
        {
          "output_type": "stream",
          "name": "stdout",
          "text": [
            "[1 2 3 4 5]\n"
          ]
        }
      ]
    },
    {
      "cell_type": "code",
      "source": [
        "# 2-d\n",
        "arr=np.array([[1,2,3],[4,5,6]])\n",
        "print(arr)\n",
        "print(arr[0][1])"
      ],
      "metadata": {
        "colab": {
          "base_uri": "https://localhost:8080/"
        },
        "id": "FqLRI_rfNF5-",
        "outputId": "b7878c59-114f-41c3-fcbf-ea2208e236dc"
      },
      "execution_count": null,
      "outputs": [
        {
          "output_type": "stream",
          "name": "stdout",
          "text": [
            "[[1 2 3]\n",
            " [4 5 6]]\n",
            "2\n"
          ]
        }
      ]
    },
    {
      "cell_type": "code",
      "source": [
        "# 3-d\n",
        "arr=np.array([[[1,2,3],[4,5,6]],[[1,2,3],[4,5,6]]])\n",
        "print(arr)\n",
        "print(arr[0][1])"
      ],
      "metadata": {
        "colab": {
          "base_uri": "https://localhost:8080/"
        },
        "id": "Bx1SPsKtOQdj",
        "outputId": "8ca01561-1d1f-4dd1-9f31-7e4a566b6278"
      },
      "execution_count": null,
      "outputs": [
        {
          "output_type": "stream",
          "name": "stdout",
          "text": [
            "[[[1 2 3]\n",
            "  [4 5 6]]\n",
            "\n",
            " [[1 2 3]\n",
            "  [4 5 6]]]\n",
            "[4 5 6]\n"
          ]
        }
      ]
    },
    {
      "cell_type": "code",
      "source": [
        "# arange\n",
        "a=np.arange(1,7).reshape(2,3)\n",
        "print(a)"
      ],
      "metadata": {
        "colab": {
          "base_uri": "https://localhost:8080/"
        },
        "id": "gQsxR1UkOV4D",
        "outputId": "5c35c606-db81-4f2b-da59-f1cfb73acc78"
      },
      "execution_count": null,
      "outputs": [
        {
          "output_type": "stream",
          "name": "stdout",
          "text": [
            "[[1 2 3]\n",
            " [4 5 6]]\n"
          ]
        }
      ]
    },
    {
      "cell_type": "code",
      "source": [
        "#3d arrays\n",
        "# depth ,rows , columns\n",
        "a=np.arange(1,13).reshape(2,2,3)\n",
        "print(a)"
      ],
      "metadata": {
        "colab": {
          "base_uri": "https://localhost:8080/"
        },
        "id": "8FRxkaU5Oy_w",
        "outputId": "01fdb1d2-b8ef-49bc-e71b-fda25009f309"
      },
      "execution_count": null,
      "outputs": [
        {
          "output_type": "stream",
          "name": "stdout",
          "text": [
            "[[[ 1  2  3]\n",
            "  [ 4  5  6]]\n",
            "\n",
            " [[ 7  8  9]\n",
            "  [10 11 12]]]\n"
          ]
        }
      ]
    },
    {
      "cell_type": "code",
      "source": [
        "a=np.array(42)\n",
        "b=np.array([1,2,3,4,5])\n",
        "c=np.array([[1,2,3],[4,5,6]])\n",
        "d=np.array([[[1,2,3],[4,5,6]],[[1,2,3],[4,5,6]]])\n",
        "print(a.ndim)\n",
        "print(b.ndim)\n",
        "print(c.ndim)\n",
        "print(d.ndim)\n",
        "print(a.shape)\n",
        "print(b.shape)\n",
        "print(c.shape)\n",
        "print(d.shape)\n",
        "\n"
      ],
      "metadata": {
        "colab": {
          "base_uri": "https://localhost:8080/"
        },
        "id": "bQYSLPTkP0JL",
        "outputId": "dfe75777-9f15-4f33-df80-16595cfa0f52"
      },
      "execution_count": null,
      "outputs": [
        {
          "output_type": "stream",
          "name": "stdout",
          "text": [
            "0\n",
            "1\n",
            "2\n",
            "3\n",
            "()\n",
            "(5,)\n",
            "(2, 3)\n",
            "(2, 2, 3)\n"
          ]
        }
      ]
    },
    {
      "cell_type": "markdown",
      "source": [
        "# Matrix"
      ],
      "metadata": {
        "id": "dBmC4C5TRcCD"
      }
    },
    {
      "cell_type": "code",
      "source": [
        "# matrix is always 2d\n",
        "a=np.matrix([1,2,3,4,5])\n",
        "print(a)"
      ],
      "metadata": {
        "colab": {
          "base_uri": "https://localhost:8080/"
        },
        "id": "FbClNrd4Q91T",
        "outputId": "8f4e88a2-d759-4ed6-e345-69d35bd87198"
      },
      "execution_count": null,
      "outputs": [
        {
          "output_type": "stream",
          "name": "stdout",
          "text": [
            "[[1 2 3 4 5]]\n"
          ]
        }
      ]
    },
    {
      "cell_type": "code",
      "source": [
        "# dot product\n",
        "a=np.array([1,2,3,4,5])\n",
        "b=np.array([1,2,3,4,5])\n",
        "print(np.dot(a,b))"
      ],
      "metadata": {
        "colab": {
          "base_uri": "https://localhost:8080/"
        },
        "id": "3T2y7j4qRo5k",
        "outputId": "cd48ec4d-80d9-435a-aa33-756a13590f89"
      },
      "execution_count": null,
      "outputs": [
        {
          "output_type": "stream",
          "name": "stdout",
          "text": [
            "55\n"
          ]
        }
      ]
    },
    {
      "cell_type": "code",
      "source": [
        "a=np.array([1,2,3,4,5])\n",
        "b=np.array([1,2,3,4,5])\n",
        "print(a*b)"
      ],
      "metadata": {
        "colab": {
          "base_uri": "https://localhost:8080/"
        },
        "id": "Kj1XEDkJR51r",
        "outputId": "294829ea-3275-4031-b323-cfa8f38968c5"
      },
      "execution_count": null,
      "outputs": [
        {
          "output_type": "stream",
          "name": "stdout",
          "text": [
            "[ 1  4  9 16 25]\n"
          ]
        }
      ]
    },
    {
      "cell_type": "code",
      "source": [
        "# 2d array dot product\n",
        "a=np.array([[1,2,3],[4,5,6]])\n",
        "b=np.array([[1,2,3],[4,5,6],[7,8,9]])\n",
        "c=np.array([[1,2,3],[4,5,6]])\n",
        "# dot product number or columns of 1st row should be equal to rows of second\n",
        "print(np.dot(a,b))\n",
        "print(np.dot(a,c.T))"
      ],
      "metadata": {
        "colab": {
          "base_uri": "https://localhost:8080/"
        },
        "id": "4JHjbxYJSEQy",
        "outputId": "658fd879-18cb-4f21-b197-1fdd61422a21"
      },
      "execution_count": null,
      "outputs": [
        {
          "output_type": "stream",
          "name": "stdout",
          "text": [
            "[[30 36 42]\n",
            " [66 81 96]]\n",
            "[[14 32]\n",
            " [32 77]]\n"
          ]
        }
      ]
    },
    {
      "cell_type": "code",
      "source": [
        "b=np.array([[1,2,3],[4,5,6]])\n",
        "# row ka phla index aur column ka phla, : ka mtlb hy k\n",
        "print(b[:,1])\n",
        "print(b[0,-1])\n",
        "print(b[0][-1])"
      ],
      "metadata": {
        "colab": {
          "base_uri": "https://localhost:8080/"
        },
        "id": "dx2boiYVSUQI",
        "outputId": "dab33f91-552c-4e0e-e749-ff9b6f37d63b"
      },
      "execution_count": null,
      "outputs": [
        {
          "output_type": "stream",
          "name": "stdout",
          "text": [
            "[2 5]\n",
            "3\n",
            "3\n"
          ]
        }
      ]
    },
    {
      "cell_type": "code",
      "source": [
        "# copy()\n",
        "a=np.array([1,2,3,4,5])\n",
        "x=a.view()\n",
        "b=a.copy()\n",
        "a[0]=100\n",
        "print(a)\n",
        "print(b)\n",
        "print(x)"
      ],
      "metadata": {
        "colab": {
          "base_uri": "https://localhost:8080/"
        },
        "id": "SWAuu2L9T3x7",
        "outputId": "7eb7051d-b6ce-4717-a641-ac6b4a1c739b"
      },
      "execution_count": null,
      "outputs": [
        {
          "output_type": "stream",
          "name": "stdout",
          "text": [
            "[100   2   3   4   5]\n",
            "[1 2 3 4 5]\n",
            "[100   2   3   4   5]\n"
          ]
        }
      ]
    },
    {
      "cell_type": "code",
      "source": [
        "a=np.array([4,5,6,4])\n",
        "a[0]=9\n",
        "print(a)"
      ],
      "metadata": {
        "colab": {
          "base_uri": "https://localhost:8080/"
        },
        "id": "qNMeQTi8WPfW",
        "outputId": "eab84c4d-f3d9-4f7f-c816-1a8270322115"
      },
      "execution_count": null,
      "outputs": [
        {
          "output_type": "stream",
          "name": "stdout",
          "text": [
            "[9 5 6 4]\n"
          ]
        }
      ]
    },
    {
      "cell_type": "code",
      "source": [
        "# 2d array k index ke vaue chnage nho ho skhti\n",
        "a=np.array([[1,2,3,4,5],[6,7,8,9,10]])\n",
        "# 0=rows , 1=column\n",
        "b=np.insert(a,2,99,axis=0)\n",
        "print(a)\n",
        "print(b)\n",
        "a[0]=100\n",
        "print(a)"
      ],
      "metadata": {
        "colab": {
          "base_uri": "https://localhost:8080/"
        },
        "id": "yGaP3z8_V0Re",
        "outputId": "812995dc-3eeb-4663-f0c0-bf57293969e4"
      },
      "execution_count": null,
      "outputs": [
        {
          "output_type": "stream",
          "name": "stdout",
          "text": [
            "[[ 1  2  3  4  5]\n",
            " [ 6  7  8  9 10]]\n",
            "[[ 1  2  3  4  5]\n",
            " [ 6  7  8  9 10]\n",
            " [99 99 99 99 99]]\n",
            "[[100 100 100 100 100]\n",
            " [  6   7   8   9  10]]\n"
          ]
        }
      ]
    },
    {
      "cell_type": "code",
      "source": [
        "# concatenate\n",
        "a=np.array([1,2,3,4,5])\n",
        "b=np.array([6,7,8,9,10])\n",
        "c=np.concatenate((a,b))\n",
        "print(c)"
      ],
      "metadata": {
        "colab": {
          "base_uri": "https://localhost:8080/"
        },
        "id": "JdCfMHOFVL-d",
        "outputId": "bcb601e8-7a07-47fe-86be-eb19016ff7df"
      },
      "execution_count": null,
      "outputs": [
        {
          "output_type": "stream",
          "name": "stdout",
          "text": [
            "[ 1  2  3  4  5  6  7  8  9 10]\n"
          ]
        }
      ]
    },
    {
      "cell_type": "code",
      "source": [
        "# prompt: conactenate 2d array\n",
        "\n",
        "import numpy as np\n",
        "\n",
        "a = np.array([[1, 2], [3, 4]])\n",
        "b = np.array([[5, 6], [7, 8]])\n",
        "\n",
        "# Concatenate along rows (axis=0)\n",
        "c = np.concatenate((a, b), axis=0)\n",
        "print(\"Concatenated along rows:\")\n",
        "print(c)\n",
        "\n",
        "# Concatenate along columns (axis=1)\n",
        "d = np.concatenate((a, b), axis=1)\n",
        "print(\"\\nConcatenated along columns:\")\n",
        "print(d)\n"
      ],
      "metadata": {
        "colab": {
          "base_uri": "https://localhost:8080/"
        },
        "id": "rhM-KA2MWuM6",
        "outputId": "5774e62f-7f58-492a-c7de-ec48695fe330"
      },
      "execution_count": null,
      "outputs": [
        {
          "output_type": "stream",
          "name": "stdout",
          "text": [
            "Concatenated along rows:\n",
            "[[1 2]\n",
            " [3 4]\n",
            " [5 6]\n",
            " [7 8]]\n",
            "\n",
            "Concatenated along columns:\n",
            "[[1 2 5 6]\n",
            " [3 4 7 8]]\n"
          ]
        }
      ]
    },
    {
      "cell_type": "code",
      "source": [
        "# linspace , by default 50\n",
        "arr=np.linspace(0,10)\n",
        "print(arr)"
      ],
      "metadata": {
        "colab": {
          "base_uri": "https://localhost:8080/"
        },
        "id": "r-m8TdkdW2V5",
        "outputId": "38b5bad5-d8aa-420a-96d2-49347677e7df"
      },
      "execution_count": null,
      "outputs": [
        {
          "output_type": "stream",
          "name": "stdout",
          "text": [
            "[ 0.          0.20408163  0.40816327  0.6122449   0.81632653  1.02040816\n",
            "  1.2244898   1.42857143  1.63265306  1.83673469  2.04081633  2.24489796\n",
            "  2.44897959  2.65306122  2.85714286  3.06122449  3.26530612  3.46938776\n",
            "  3.67346939  3.87755102  4.08163265  4.28571429  4.48979592  4.69387755\n",
            "  4.89795918  5.10204082  5.30612245  5.51020408  5.71428571  5.91836735\n",
            "  6.12244898  6.32653061  6.53061224  6.73469388  6.93877551  7.14285714\n",
            "  7.34693878  7.55102041  7.75510204  7.95918367  8.16326531  8.36734694\n",
            "  8.57142857  8.7755102   8.97959184  9.18367347  9.3877551   9.59183673\n",
            "  9.79591837 10.        ]\n"
          ]
        }
      ]
    },
    {
      "cell_type": "code",
      "source": [
        "# linspace , num=5\n",
        "arr=np.linspace(0,2,num=5)\n",
        "print(arr)"
      ],
      "metadata": {
        "colab": {
          "base_uri": "https://localhost:8080/"
        },
        "id": "_Hc1UJWKXIqY",
        "outputId": "296b8129-e7c2-4e95-8aa1-d1cf5a5c847f"
      },
      "execution_count": null,
      "outputs": [
        {
          "output_type": "stream",
          "name": "stdout",
          "text": [
            "[0.  0.5 1.  1.5 2. ]\n"
          ]
        }
      ]
    },
    {
      "cell_type": "code",
      "source": [
        "# ignore last value\n",
        "arr=np.linspace(0,2,num=5,endpoint=False, dtype=float)\n",
        "print(arr)"
      ],
      "metadata": {
        "colab": {
          "base_uri": "https://localhost:8080/"
        },
        "id": "cIR8RmLZXo0c",
        "outputId": "a8401702-9340-4206-fa5c-502a23af49de"
      },
      "execution_count": null,
      "outputs": [
        {
          "output_type": "stream",
          "name": "stdout",
          "text": [
            "[0.  0.4 0.8 1.2 1.6]\n"
          ]
        }
      ]
    },
    {
      "cell_type": "code",
      "source": [
        "import numpy as np\n",
        "a=np.random.random()\n",
        "arr=np.random.random((4,3))\n",
        "print(arr)\n",
        "print(a)"
      ],
      "metadata": {
        "colab": {
          "base_uri": "https://localhost:8080/"
        },
        "id": "uP47J3hFX5i1",
        "outputId": "170085d7-9d47-4afe-ca10-e6970173b6f6"
      },
      "execution_count": null,
      "outputs": [
        {
          "output_type": "stream",
          "name": "stdout",
          "text": [
            "[[0.68298458 0.06586756 0.40164674]\n",
            " [0.80140189 0.91693282 0.07493165]\n",
            " [0.19871305 0.14167756 0.0635511 ]\n",
            " [0.32684103 0.88749555 0.11069461]]\n",
            "0.4500980887699896\n"
          ]
        }
      ]
    },
    {
      "cell_type": "markdown",
      "source": [
        "# **Lab Task 5**"
      ],
      "metadata": {
        "id": "6Cl6qAI9Y0KK"
      }
    },
    {
      "cell_type": "code",
      "source": [
        "# Task 1: Consider 2-d array and Convert all the elements of a num py array from float to Bool datatype.\n",
        "app=np.array([[2.5,3.6,4.3,5.1],[4.2,5.5,6.1,3.1]], dtype=\"bool\")\n",
        "print(app)\n"
      ],
      "metadata": {
        "colab": {
          "base_uri": "https://localhost:8080/"
        },
        "id": "_uljR4OVbdyD",
        "outputId": "aa1f76d2-3db7-41ac-ff34-ef726e2a6b61"
      },
      "execution_count": null,
      "outputs": [
        {
          "output_type": "stream",
          "name": "stdout",
          "text": [
            "[[ True  True  True  True]\n",
            " [ True  True  True  True]]\n"
          ]
        }
      ]
    },
    {
      "cell_type": "code",
      "source": [
        "# Task2: Write a Python program that uses insert function to add an element to a specific position in a array.\n",
        "# •\tadd the element 55 at position 2.\n",
        "# •\tPrint the updated array after the insertion.\n",
        "\n",
        "arr=np.array([3,4,5,6,6])\n",
        "arr2=np.insert(arr,1,55)\n",
        "print(arr2)\n"
      ],
      "metadata": {
        "colab": {
          "base_uri": "https://localhost:8080/"
        },
        "id": "FSAvv2Zrfpnm",
        "outputId": "8bcb0821-b468-4fb9-b918-99f15c7ba7c8"
      },
      "execution_count": null,
      "outputs": [
        {
          "output_type": "stream",
          "name": "stdout",
          "text": [
            "[ 3 55  4  5  6  6]\n"
          ]
        }
      ]
    },
    {
      "cell_type": "code",
      "source": [
        "# Task3: Generate a sequence of numbers in the form of a numpy array from 0 to 100 with gaps of 2 numbers, for example: 0, 2, 4\n",
        "arr=np.arange(0,101,2)\n",
        "print(arr)"
      ],
      "metadata": {
        "colab": {
          "base_uri": "https://localhost:8080/"
        },
        "id": "aE01oIfkgCAZ",
        "outputId": "745bd9ea-b10a-4841-d575-7ca8cf4577ab"
      },
      "execution_count": null,
      "outputs": [
        {
          "output_type": "stream",
          "name": "stdout",
          "text": [
            "[  0   2   4   6   8  10  12  14  16  18  20  22  24  26  28  30  32  34\n",
            "  36  38  40  42  44  46  48  50  52  54  56  58  60  62  64  66  68  70\n",
            "  72  74  76  78  80  82  84  86  88  90  92  94  96  98 100]\n"
          ]
        }
      ]
    },
    {
      "cell_type": "code",
      "source": [
        "# Task 4:Given 2 numpy arrays as matrices, output the result of multiplying the 2 matrices (as a numpy array)\n",
        "matrix1=np.array([1,3,4,5])\n",
        "matrix2=np.array([5,9,8,9])\n",
        "print(matrix1*matrix2)"
      ],
      "metadata": {
        "colab": {
          "base_uri": "https://localhost:8080/"
        },
        "id": "x-HJIgeJhd1n",
        "outputId": "b75c0746-5db9-435a-bb70-28d1c8709550"
      },
      "execution_count": null,
      "outputs": [
        {
          "output_type": "stream",
          "name": "stdout",
          "text": [
            "[ 5 27 32 45]\n"
          ]
        }
      ]
    },
    {
      "cell_type": "code",
      "source": [
        "#Task5: Consider a 1-d array and check whether the specific number is present or not?\n",
        "arr5=np.array([3,5,63,7,8])\n",
        "user=int(input(\"enter number\"))\n",
        "# initialize the variable with false\n",
        "check=False\n",
        "for x in arr5:\n",
        "  if(user==x):\n",
        "    check=True\n",
        "\n",
        "if (check==True):\n",
        "    print(\"found\")\n",
        "else:\n",
        "  print(\"not found\")\n",
        "\n",
        "\n",
        "\n",
        "\n"
      ],
      "metadata": {
        "colab": {
          "base_uri": "https://localhost:8080/"
        },
        "id": "ew5C5eE4hjS7",
        "outputId": "06af60fc-1b10-48ba-ee01-54ed2ec74e09"
      },
      "execution_count": null,
      "outputs": [
        {
          "output_type": "stream",
          "name": "stdout",
          "text": [
            "enter number7\n",
            "found\n"
          ]
        }
      ]
    },
    {
      "cell_type": "code",
      "source": [],
      "metadata": {
        "id": "cRJoElxRjwkw"
      },
      "execution_count": null,
      "outputs": []
    }
  ]
}