{
  "nbformat": 4,
  "nbformat_minor": 0,
  "metadata": {
    "colab": {
      "provenance": [],
      "authorship_tag": "ABX9TyP+Jc93tJPVt4q2WFxeq2o1",
      "include_colab_link": true
    },
    "kernelspec": {
      "name": "python3",
      "display_name": "Python 3"
    },
    "language_info": {
      "name": "python"
    }
  },
  "cells": [
    {
      "cell_type": "markdown",
      "metadata": {
        "id": "view-in-github",
        "colab_type": "text"
      },
      "source": [
        "<a href=\"https://colab.research.google.com/github/zainikhan999/Zainab_Khan_Ai_Collab_Notebooks_CS6/blob/main/Ai_CS_6_Lab_09_Zainab_Khan_38901_.ipynb\" target=\"_parent\"><img src=\"https://colab.research.google.com/assets/colab-badge.svg\" alt=\"Open In Colab\"/></a>"
      ]
    },
    {
      "cell_type": "markdown",
      "source": [
        "# Task 1\n",
        "\n"
      ],
      "metadata": {
        "id": "90APMfzoi6zh"
      }
    },
    {
      "cell_type": "code",
      "execution_count": 3,
      "metadata": {
        "colab": {
          "base_uri": "https://localhost:8080/"
        },
        "id": "e4OhqK5pi21L",
        "outputId": "ee7ce1ac-d8be-467d-8ae6-c2777b1d7877"
      },
      "outputs": [
        {
          "output_type": "stream",
          "name": "stdout",
          "text": [
            "A\n",
            "B\n",
            "C\n",
            "H\n",
            "D\n",
            "E\n",
            "F\n",
            "G\n"
          ]
        }
      ],
      "source": [
        "from collections import deque\n",
        "def bfs(graph, start_node):\n",
        "    visited = set()  # Track visited nodes\n",
        "    queue = deque([start_node])  # Initialize queue with the start node\n",
        "    visited.add(start_node)\n",
        "    while queue:\n",
        "        current_node = queue.popleft()\n",
        "        print(current_node)  # Process the current node (e.g., print it)\n",
        "        for neighbor in graph[current_node]:  # Check each neighbor\n",
        "            if neighbor not in visited:\n",
        "                visited.add(neighbor)\n",
        "                queue.append(neighbor)\n",
        "# Example usage\n",
        "graph = {\n",
        "    \"A\": [\"B\", \"C\", \"H\"],\n",
        "    \"B\": [\"A\"],\n",
        "    \"C\": [\"A\", \"D\"],\n",
        "    \"D\": [\"C\", \"E\", \"F\"],\n",
        "    \"E\": [\"D\", \"G\", \"H\"],\n",
        "    \"F\": [\"D\", \"G\"],\n",
        "    \"G\": [\"E\", \"F\"],\n",
        "    \"H\": [\"A\", \"E\"]\n",
        "}\n",
        "\n",
        "bfs(graph, 'A')\n"
      ]
    },
    {
      "cell_type": "markdown",
      "source": [
        "# Task 02:"
      ],
      "metadata": {
        "id": "i0W8hyr1k1zj"
      }
    },
    {
      "cell_type": "code",
      "source": [
        "def dfs(graph, start_node, visited=None):\n",
        "    if visited is None:\n",
        "        visited = set()  # Initialize visited set on the first call\n",
        "    visited.add(start_node)  # Mark the current node as visited\n",
        "    print(start_node)  # Process the current node (e.g., print it)\n",
        "\n",
        "    for neighbor in graph[start_node]:  # Check each neighbor\n",
        "        if neighbor not in visited:  # If the neighbor hasn't been visited\n",
        "            dfs(graph, neighbor, visited)  # Recursive call for DFS\n",
        "# Example usage\n",
        "graph = {\n",
        "    \"A\": [\"B\", \"C\", \"H\"],\n",
        "    \"B\": [\"A\"],\n",
        "    \"C\": [\"A\", \"D\"],\n",
        "    \"D\": [\"C\", \"E\", \"F\"],\n",
        "    \"E\": [\"D\", \"G\", \"H\"],\n",
        "    \"F\": [\"D\", \"G\"],\n",
        "    \"G\": [\"E\", \"F\"],\n",
        "    \"H\": [\"A\", \"E\"]\n",
        "}\n",
        "\n",
        "dfs(graph, 'A')\n"
      ],
      "metadata": {
        "colab": {
          "base_uri": "https://localhost:8080/"
        },
        "id": "C2o2F876jCA7",
        "outputId": "f67c3aaa-b810-4a46-f292-b467739fde41"
      },
      "execution_count": 5,
      "outputs": [
        {
          "output_type": "stream",
          "name": "stdout",
          "text": [
            "A\n",
            "B\n",
            "C\n",
            "D\n",
            "E\n",
            "G\n",
            "F\n",
            "H\n"
          ]
        }
      ]
    },
    {
      "cell_type": "markdown",
      "source": [
        "# Task 03"
      ],
      "metadata": {
        "id": "o-vCL71klzYq"
      }
    },
    {
      "cell_type": "code",
      "source": [
        "from collections import deque\n",
        "\n",
        "# Function to check if the current board configuration is the goal\n",
        "def is_goal(state, goal):\n",
        "    return state == goal\n",
        "\n",
        "# Function to find the possible moves (up, down, left, right)\n",
        "def get_neighbors(state):\n",
        "    neighbors = []\n",
        "    # Locate the position of the empty space (0)\n",
        "    zero_index = state.index(0)\n",
        "    row, col = zero_index // 3, zero_index % 3\n",
        "\n",
        "    # Possible moves and the resulting new configurations\n",
        "    moves = {\n",
        "        \"up\": (row - 1, col),\n",
        "        \"down\": (row + 1, col),\n",
        "        \"left\": (row, col - 1),\n",
        "        \"right\": (row, col + 1)\n",
        "    }\n",
        "\n",
        "    for direction, (new_row, new_col) in moves.items():\n",
        "        if 0 <= new_row < 3 and 0 <= new_col < 3:\n",
        "            # Calculate the index for the new position\n",
        "            new_zero_index = new_row * 3 + new_col\n",
        "            # Create a new configuration by swapping the zero with the adjacent tile\n",
        "            new_state = list(state)\n",
        "            new_state[zero_index], new_state[new_zero_index] = new_state[new_zero_index], new_state[zero_index]\n",
        "            neighbors.append(new_state)\n",
        "\n",
        "    return neighbors\n",
        "\n",
        "# BFS function to solve the 8-puzzle problem\n",
        "def bfs(start, goal):\n",
        "    queue = deque([[start]])  # Queue of paths to explore\n",
        "    visited = set()  # Set of visited configurations\n",
        "\n",
        "    while queue:\n",
        "        path = queue.popleft()\n",
        "        current_state = path[-1]\n",
        "\n",
        "        # If current state matches the goal, return the path\n",
        "        if is_goal(current_state, goal):\n",
        "            return path\n",
        "\n",
        "        # Mark the current state as visited\n",
        "        visited.add(tuple(current_state))\n",
        "\n",
        "        # Explore the neighbors\n",
        "        for neighbor in get_neighbors(current_state):\n",
        "            if tuple(neighbor) not in visited:\n",
        "                queue.append(path + [neighbor])\n",
        "\n",
        "    # Return None if no solution is found\n",
        "    return None\n",
        "\n",
        "# Example usage\n",
        "start_state = [1, 2, 3,\n",
        "               4, 0, 5,\n",
        "               7, 8, 6]  # Initial configuration\n",
        "\n",
        "goal_state = [1, 2, 3,\n",
        "              4, 5, 6,\n",
        "              7, 8, 0]  # Goal configuration\n",
        "\n",
        "# Run BFS to solve the puzzle\n",
        "solution = bfs(start_state, goal_state)\n",
        "\n",
        "# Print the solution path\n",
        "if solution:\n",
        "    print(\"Solution found in\", len(solution) - 1, \"moves:\")\n",
        "    for step in solution:\n",
        "        print(step[:3])\n",
        "        print(step[3:6])\n",
        "        print(step[6:])\n",
        "        print()\n",
        "else:\n",
        "    print(\"No solution found.\")\n"
      ],
      "metadata": {
        "colab": {
          "base_uri": "https://localhost:8080/"
        },
        "id": "Ljl28gnOmUtL",
        "outputId": "3ba1d11a-f3bc-4755-e443-a0f7265137a0"
      },
      "execution_count": 7,
      "outputs": [
        {
          "output_type": "stream",
          "name": "stdout",
          "text": [
            "Solution found in 2 moves:\n",
            "[1, 2, 3]\n",
            "[4, 0, 5]\n",
            "[7, 8, 6]\n",
            "\n",
            "[1, 2, 3]\n",
            "[4, 5, 0]\n",
            "[7, 8, 6]\n",
            "\n",
            "[1, 2, 3]\n",
            "[4, 5, 6]\n",
            "[7, 8, 0]\n",
            "\n"
          ]
        }
      ]
    },
    {
      "cell_type": "markdown",
      "source": [
        "# Task 04"
      ],
      "metadata": {
        "id": "kmlmp5e6mrbA"
      }
    },
    {
      "cell_type": "code",
      "source": [
        "# Graph represented as an adjacency list with distances\n",
        "graph = {\n",
        "    \"Arad\": [(\"Zerind\", 75), (\"Sibiu\", 140), (\"Timisoara\", 118)],\n",
        "    \"Zerind\": [(\"Arad\", 75), (\"Oradea\", 71)],\n",
        "    \"Oradea\": [(\"Zerind\", 71), (\"Sibiu\", 151)],\n",
        "    \"Timisoara\": [(\"Arad\", 118), (\"Lugoj\", 111)],\n",
        "    \"Lugoj\": [(\"Timisoara\", 111), (\"Mehadia\", 70)],\n",
        "    \"Mehadia\": [(\"Lugoj\", 70), (\"Drobeta\", 75)],\n",
        "    \"Drobeta\": [(\"Mehadia\", 75), (\"Craiova\", 120)],\n",
        "    \"Craiova\": [(\"Drobeta\", 120), (\"Rimnicu Vilcea\", 146), (\"Pitesti\", 138)],\n",
        "    \"Rimnicu Vilcea\": [(\"Sibiu\", 80), (\"Craiova\", 146), (\"Pitesti\", 97)],\n",
        "    \"Sibiu\": [(\"Arad\", 140), (\"Oradea\", 151), (\"Fagaras\", 99), (\"Rimnicu Vilcea\", 80)],\n",
        "    \"Fagaras\": [(\"Sibiu\", 99), (\"Bucharest\", 211)],\n",
        "    \"Pitesti\": [(\"Rimnicu Vilcea\", 97), (\"Craiova\", 138), (\"Bucharest\", 101)],\n",
        "    \"Bucharest\": [(\"Fagaras\", 211), (\"Pitesti\", 101), (\"Urziceni\", 85), (\"Giurgiu\", 90)],\n",
        "    \"Giurgiu\": [(\"Bucharest\", 90)],\n",
        "    \"Urziceni\": [(\"Bucharest\", 85), (\"Vaslui\", 142), (\"Hirsova\", 98)],\n",
        "    \"Vaslui\": [(\"Urziceni\", 142), (\"Iasi\", 92)],\n",
        "    \"Iasi\": [(\"Vaslui\", 92), (\"Neamt\", 87)],\n",
        "    \"Hirsova\": [(\"Urziceni\", 98), (\"Eforie\", 86)],\n",
        "    \"Eforie\": [(\"Hirsova\", 86)],\n",
        "    \"Neamt\": [(\"Iasi\", 87)]\n",
        "}\n",
        "\n",
        "# DFS function to find a path from start to goal\n",
        "def dfs(graph, start, goal, path=None, visited=None):\n",
        "    if path is None:\n",
        "        path = []\n",
        "    if visited is None:\n",
        "        visited = set()\n",
        "\n",
        "    path.append(start)\n",
        "    visited.add(start)\n",
        "\n",
        "    # Check if we've reached the goal\n",
        "    if start == goal:\n",
        "        return path\n",
        "\n",
        "    # Traverse neighbors\n",
        "    for (neighbor, _) in graph[start]:\n",
        "        if neighbor not in visited:\n",
        "            result = dfs(graph, neighbor, goal, path, visited)\n",
        "            if result is not None:\n",
        "                return result\n",
        "\n",
        "    # Backtrack if no path found\n",
        "    path.pop()\n",
        "    return None\n",
        "\n",
        "# Example usage\n",
        "start_city = \"Arad\"\n",
        "goal_city = \"Bucharest\"\n",
        "path = dfs(graph, start_city, goal_city)\n",
        "\n",
        "# Output the result\n",
        "if path:\n",
        "    print(f\"Path found from {start_city} to {goal_city}:\")\n",
        "    print(\" -> \".join(path))\n",
        "else:\n",
        "    print(f\"No path found from {start_city} to {goal_city}.\")\n"
      ],
      "metadata": {
        "colab": {
          "base_uri": "https://localhost:8080/"
        },
        "id": "u_537j9Wme4h",
        "outputId": "c636c2e8-6d5c-4bbc-e72b-139a4e526d98"
      },
      "execution_count": 9,
      "outputs": [
        {
          "output_type": "stream",
          "name": "stdout",
          "text": [
            "Path found from Arad to Bucharest:\n",
            "Arad -> Zerind -> Oradea -> Sibiu -> Fagaras -> Bucharest\n"
          ]
        }
      ]
    },
    {
      "cell_type": "code",
      "source": [],
      "metadata": {
        "id": "6OE-v0RlrYB9"
      },
      "execution_count": null,
      "outputs": []
    }
  ]
}