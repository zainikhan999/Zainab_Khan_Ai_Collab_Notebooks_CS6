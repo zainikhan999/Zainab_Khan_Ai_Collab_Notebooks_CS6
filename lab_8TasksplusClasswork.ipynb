{
  "cells": [
    {
      "cell_type": "markdown",
      "metadata": {
        "id": "view-in-github",
        "colab_type": "text"
      },
      "source": [
        "<a href=\"https://colab.research.google.com/github/zainikhan999/Zainab_Khan_Ai_Collab_Notebooks_CS6/blob/main/lab_8TasksplusClasswork.ipynb\" target=\"_parent\"><img src=\"https://colab.research.google.com/assets/colab-badge.svg\" alt=\"Open In Colab\"/></a>"
      ]
    },
    {
      "cell_type": "markdown",
      "id": "8d568d3c-1cf0-4811-9816-8750ce363807",
      "metadata": {
        "id": "8d568d3c-1cf0-4811-9816-8750ce363807"
      },
      "source": [
        "Graphs in Python"
      ]
    },
    {
      "cell_type": "code",
      "execution_count": null,
      "id": "03d61edd-0ffd-4b49-abdd-3059c0feedc4",
      "metadata": {
        "id": "03d61edd-0ffd-4b49-abdd-3059c0feedc4"
      },
      "outputs": [],
      "source": [
        "#Question:\n",
        "\n",
        "# 1. create a graph using a defaultdict and then generate and print all its edges.\n",
        "# 2.The addEdge function is used to add directed edges to the graph,\n",
        "# 3. generate_edges function is used to extract all edges\n",
        "# from the graph and print them out.\n",
        "# 4.append() is used to add elements to lists,\n",
        "# 5.add neighboring nodes to the adjacency lists of each node\n",
        "# in the graph."
      ]
    },
    {
      "cell_type": "code",
      "execution_count": null,
      "id": "69585201-c416-4cfc-bce3-7109efee5628",
      "metadata": {
        "id": "69585201-c416-4cfc-bce3-7109efee5628",
        "outputId": "f7137a80-1532-4365-ce9d-c7060e8fcfe0"
      },
      "outputs": [
        {
          "name": "stdout",
          "output_type": "stream",
          "text": [
            "[('a', 'c'), ('b', 'c'), ('b', 'e'), ('c', 'd'), ('c', 'e'), ('c', 'a'), ('c', 'b'), ('e', 'b'), ('e', 'c'), ('d', 'c')]\n"
          ]
        }
      ],
      "source": [
        "from collections import defaultdict\n",
        "# Function to add an edge to the graph\n",
        "def addEdge(graph, u, v):\n",
        "    graph[u].append(v)\n",
        "# Function to generate edges from the graph\n",
        "def generate_edges(graph):\n",
        "    edges = []\n",
        "    for node in graph:\n",
        "        for neighbour in graph[node]:\n",
        "            edges.append((node, neighbour))\n",
        "    return edges\n",
        "# Initialize the graph as a defaultdict of lists\n",
        "# retrieve a list of all edges in graph\n",
        "graph = defaultdict(list)\n",
        "# Adding edges to the graph\n",
        "addEdge(graph, 'a', 'c')\n",
        "addEdge(graph, 'b', 'c')\n",
        "addEdge(graph, 'b', 'e')\n",
        "addEdge(graph, 'c', 'd')\n",
        "addEdge(graph, 'c', 'e')\n",
        "addEdge(graph, 'c', 'a')\n",
        "addEdge(graph, 'c', 'b')\n",
        "addEdge(graph, 'e', 'b')\n",
        "addEdge(graph, 'd', 'c')\n",
        "addEdge(graph, 'e', 'c')\n",
        "# Printing the generated edges of the graph\n",
        "print(generate_edges(graph))"
      ]
    },
    {
      "cell_type": "markdown",
      "id": "a6d4a8c6-17ec-4676-90cc-efee865ca8e1",
      "metadata": {
        "id": "a6d4a8c6-17ec-4676-90cc-efee865ca8e1"
      },
      "source": [
        "find shortest path"
      ]
    },
    {
      "cell_type": "code",
      "execution_count": null,
      "id": "908b1b07-dc0c-4d9a-b691-f23716c7d79b",
      "metadata": {
        "id": "908b1b07-dc0c-4d9a-b691-f23716c7d79b",
        "outputId": "8ff1659b-874a-4fd7-b43f-523633a885e7"
      },
      "outputs": [
        {
          "name": "stdout",
          "output_type": "stream",
          "text": [
            "Shortest path from A to D: ['A', 'B', 'D']\n"
          ]
        }
      ],
      "source": [
        "def find_shortest_path(graph, start, end, path=[]):\n",
        "    path = path + [start]\n",
        "    # If we reach the destination node, return the path\n",
        "    if start == end:\n",
        "        return path\n",
        "    # If the starting node has no neighbors\n",
        "    if start not in graph:\n",
        "        return None\n",
        "    shortest = None\n",
        "    # Explore neighbors\n",
        "    for neighbor in graph[start]:\n",
        "        if neighbor not in path:  # Avoid cycles\n",
        "            new_path = find_shortest_path(graph, neighbor, end, path) #recursive call\n",
        "            if new_path:  # If a path was found\n",
        "                if shortest is None or len(new_path) < len(shortest):\n",
        "                    shortest = new_path\n",
        "    return shortest\n",
        "\n",
        "# Example graph\n",
        "graph = {\n",
        "    'A': ['B', 'C'],\n",
        "    'B': ['A', 'C', 'D'],\n",
        "    'C': ['A', 'B', 'D'],\n",
        "    'D': ['B', 'C']\n",
        "}\n",
        "\n",
        "# Example usage\n",
        "start_node = 'A'\n",
        "end_node = 'D'\n",
        "path = find_shortest_path(graph, start_node, end_node)\n",
        "print(f\"Shortest path from {start_node} to {end_node}: {path}\")\n"
      ]
    },
    {
      "cell_type": "markdown",
      "id": "ecdff23b-6565-4a52-804e-ea4a9537263c",
      "metadata": {
        "id": "ecdff23b-6565-4a52-804e-ea4a9537263c"
      },
      "source": [
        "Adjacency List"
      ]
    },
    {
      "cell_type": "code",
      "execution_count": null,
      "id": "cb2f4ba2-3b07-4cb4-af2f-a2b349086927",
      "metadata": {
        "id": "cb2f4ba2-3b07-4cb4-af2f-a2b349086927",
        "outputId": "1fe18641-0b41-4ba2-8a4d-f51bb7ad65a3"
      },
      "outputs": [
        {
          "name": "stdout",
          "output_type": "stream",
          "text": [
            "Graph Representation:\n",
            "1 -> 2 edge weight: 1\n",
            "1 -> 3 edge weight: 1\n",
            "2 -> 3 edge weight: 3\n",
            "3 -> 4 edge weight: 4\n",
            "4 -> 1 edge weight: 5\n",
            "Internal Representation: {1: [[2, 1], [3, 1]], 2: [[3, 3]], 3: [[4, 4]], 4: [[1, 5]]}\n"
          ]
        }
      ],
      "source": [
        "# Global variables to store the graph and number of vertices\n",
        "graph = {}\n",
        "vertices_no = 0\n",
        "\n",
        "# Function to add a vertex to the graph\n",
        "def add_vertex(v):\n",
        "    global graph\n",
        "    global vertices_no\n",
        "    if v in graph:\n",
        "        print(\"Vertex\", v, \"already exists.\")\n",
        "    else:\n",
        "        vertices_no += 1\n",
        "        graph[v] = []   # { '1':[]}\n",
        "\n",
        "# Function to add an edge between two vertices with an edge weight\n",
        "def add_edge(v1, v2, e):\n",
        "    global graph\n",
        "    # Check if vertex v1 exists in the graph\n",
        "    if v1 not in graph:\n",
        "        print(\"Vertex\", v1, \"does not exist.\")\n",
        "    # Check if vertex v2 exists in the graph\n",
        "    elif v2 not in graph:\n",
        "        print(\"Vertex\", v2, \"does not exist.\")\n",
        "    else:\n",
        "        # Add edge (v2, e) to the list of edges for vertex v1\n",
        "        temp = [v2, e]\n",
        "        graph[v1].append(temp)\n",
        "\n",
        "# Function to print the graph\n",
        "def print_graph():\n",
        "    global graph\n",
        "    for vertex in graph:\n",
        "        for edges in graph[vertex]:\n",
        "            print(vertex, \"->\", edges[0], \"edge weight:\", edges[1])\n",
        "\n",
        "# Driver code to demonstrate graph operations\n",
        "add_vertex(1)\n",
        "add_vertex(2)\n",
        "add_vertex(3)\n",
        "add_vertex(4)\n",
        "\n",
        "add_edge(1, 2, 1)\n",
        "add_edge(1, 3, 1)\n",
        "add_edge(2, 3, 3)\n",
        "add_edge(3, 4, 4)\n",
        "add_edge(4, 1, 5)\n",
        "\n",
        "# Print the graph\n",
        "print(\"Graph Representation:\")\n",
        "print_graph()\n",
        "\n",
        "# Print the internal representation of the graph\n",
        "print(\"Internal Representation:\", graph)\n"
      ]
    },
    {
      "cell_type": "markdown",
      "id": "5fe440f7-14c2-40fd-81a2-dc795696c95d",
      "metadata": {
        "id": "5fe440f7-14c2-40fd-81a2-dc795696c95d"
      },
      "source": [
        "Adjacency matrix"
      ]
    },
    {
      "cell_type": "code",
      "execution_count": null,
      "id": "b413b001-ccba-4de0-9c22-84c84fe97f07",
      "metadata": {
        "id": "b413b001-ccba-4de0-9c22-84c84fe97f07",
        "outputId": "2f5df790-2ebc-4d1a-eeee-f921c5350b4b"
      },
      "outputs": [
        {
          "name": "stdout",
          "output_type": "stream",
          "text": [
            "[0, 1, 1]\n",
            "[1, 0, 1]\n",
            "[1, 1, 0]\n",
            "\n",
            "[0, 1, 0, 1]\n",
            "[1, 0, 1, 1]\n",
            "[0, 1, 0, 1]\n",
            "[1, 1, 1, 0]\n"
          ]
        }
      ],
      "source": [
        "def create_adjacency_matrix(V, edges):\n",
        "    # Initialize an empty V x V matrix with all zeros\n",
        "    matrix = [[0] * V for _ in range(V)]\n",
        "    # Populate the matrix based on the edges\n",
        "    for edge in edges:\n",
        "        u, v = edge   #(0,1)\n",
        "        matrix[u][v] = 1\n",
        "        matrix[v][u] = 1  # Undirected graph\n",
        "    return matrix\n",
        "# Example 1\n",
        "V1 = 3\n",
        "edges1 = [(0, 1), (1, 2), (2, 0)]\n",
        "adj_matrix1 = create_adjacency_matrix(V1, edges1)\n",
        "for row in adj_matrix1:\n",
        "    print(row)\n",
        "print()\n",
        "# Example 2\n",
        "V2 = 4\n",
        "edges2 = [(0, 1), (1, 2), (1, 3), (2, 3), (3, 0)]\n",
        "adj_matrix2 = create_adjacency_matrix(V2, edges2)\n",
        "for row in adj_matrix2:\n",
        "    print(row)"
      ]
    },
    {
      "cell_type": "code",
      "execution_count": null,
      "id": "24235f00-4e8a-40f7-9116-e7e7f12b686f",
      "metadata": {
        "id": "24235f00-4e8a-40f7-9116-e7e7f12b686f",
        "outputId": "b790df28-aa75-4847-e7a4-d621c71ee382"
      },
      "outputs": [
        {
          "name": "stdout",
          "output_type": "stream",
          "text": [
            "Graph Representation:\n",
            "1 -> 2 edge weight: 1\n",
            "1 -> 3 edge weight: 1\n",
            "2 -> 3 edge weight: 3\n",
            "3 -> 4 edge weight: 4\n",
            "4 -> 1 edge weight: 5\n",
            "Internal representation: [[0, 1, 1, 0], [0, 0, 3, 0], [0, 0, 0, 4], [5, 0, 0, 0]]\n"
          ]
        }
      ],
      "source": [
        "# Global variables to store the graph, number of vertices, and vertices set\n",
        "graph = []\n",
        "vertices_no = 0\n",
        "vertices = []\n",
        "# Function to add a vertex to the graph\n",
        "def add_vertex(v):\n",
        "    global graph\n",
        "    global vertices_no\n",
        "    global vertices\n",
        "    if v in vertices:\n",
        "        print(\"Vertex\", v, \"already exists.\")\n",
        "    else:\n",
        "        vertices_no += 1\n",
        "        vertices.append(v)    #here we are adding 1,2,3,4 in vertices\n",
        "               # Initialize the graph matrix with zeros for new vertex\n",
        "        if vertices_no > 1:\n",
        "            for row in graph:   # Extend each row in the graph with zeros for the new vertex[0 0 0]\n",
        "                row.append(0)\n",
        "                   # Add a new row (list) with zeros for the new vertex\n",
        "            new_row = [0] * vertices_no     #[0 0]\n",
        "            graph.append(new_row)\n",
        "\n",
        "# Function to add an edge between two vertices with an edge weight\n",
        "def add_edge(v1, v2, e):\n",
        "    global graph\n",
        "    global vertices\n",
        "\n",
        "    # Check if vertex v1 is a valid vertex\n",
        "    if v1 not in vertices:\n",
        "        print(\"Vertex\", v1, \"does not exist.\")\n",
        "    # Check if vertex v2 is a valid vertex\n",
        "    elif v2 not in vertices:\n",
        "        print(\"Vertex\", v2, \"does not exist.\")\n",
        "    else:\n",
        "        index1 = vertices.index(v1)   #0 as vertices[1,2,3,4] as [0,1,2,3]\n",
        "        index2 = vertices.index(v2)    #1 as vertices[1,2,3,4] as [0,1,2,3]\n",
        "        # Ensure the graph matrix has enough rows and columns to access\n",
        "        while len(graph) <= index1:\n",
        "            graph.append([0] * vertices_no)\n",
        "              # Update the edge weight in the graph matrix\n",
        "        graph[index1][index2] = e   #graph[0][1]=1\n",
        "# Function to print the graph\n",
        "def print_graph():\n",
        "    global graph\n",
        "    global vertices_no\n",
        "    global vertices\n",
        "    for i in range(vertices_no):\n",
        "        for j in range(vertices_no):\n",
        "            if graph[i][j] != 0:\n",
        "                print(vertices[i], \"->\", vertices[j], \"edge weight:\", graph[i][j])\n",
        "# Driver code to demonstrate graph operations\n",
        "add_vertex(1)\n",
        "add_vertex(2)\n",
        "add_vertex(3)\n",
        "add_vertex(4)\n",
        "\n",
        "add_edge(1, 2, 1)\n",
        "add_edge(1, 3, 1)\n",
        "add_edge(2, 3, 3)\n",
        "add_edge(3, 4, 4)\n",
        "add_edge(4, 1, 5)\n",
        "\n",
        "# Print the graph\n",
        "print(\"Graph Representation:\")\n",
        "print_graph()\n",
        "\n",
        "# Print the internal representation of the graph (adjacency matrix)\n",
        "print(\"Internal representation:\", graph)\n"
      ]
    },
    {
      "cell_type": "markdown",
      "source": [
        "# Lab Tasks\n"
      ],
      "metadata": {
        "id": "BXoKuud3zpgb"
      },
      "id": "BXoKuud3zpgb"
    },
    {
      "cell_type": "code",
      "execution_count": null,
      "id": "303c5a25-d776-4b9f-a1d6-b97e7cc95648",
      "metadata": {
        "colab": {
          "base_uri": "https://localhost:8080/"
        },
        "id": "303c5a25-d776-4b9f-a1d6-b97e7cc95648",
        "outputId": "2aa96613-d27c-484a-899f-2dd0aba2f3c8"
      },
      "outputs": [
        {
          "output_type": "stream",
          "name": "stdout",
          "text": [
            "Directed Graph: defaultdict(<class 'list'>, {1: [2], 2: [3], 3: [4], 4: [5], 5: [6], 6: [7]})\n",
            "Undirected Graph: defaultdict(<class 'list'>, {1: [2], 2: [1, 3], 3: [2, 4], 4: [3, 5], 5: [4, 6], 6: [5, 7], 7: [6]})\n",
            "Weighted Graph: defaultdict(<class 'list'>, {1: [(2, 1)], 2: [(1, 1), (3, 2)], 3: [(2, 2), (4, 3)], 4: [(3, 3), (5, 4)], 5: [(4, 4), (6, 5)], 6: [(5, 5), (7, 6)], 7: [(6, 6)]})\n",
            "Shortest path from 1 to 7: [1, 2, 3, 4, 5, 6, 7]\n",
            "Neighbors of node 3: [2, 4]\n",
            "Edge between 1 and 2 exists: True\n"
          ]
        }
      ],
      "source": [
        "\n",
        "\n",
        "from collections import defaultdict\n",
        "\n",
        "# Function to add an edge to a directed graph\n",
        "def add_directed_edge(graph, u, v):\n",
        "  graph[u].append(v)\n",
        "\n",
        "# Function to add an edge to an undirected graph\n",
        "def add_undirected_edge(graph, u, v):\n",
        "  graph[u].append(v)\n",
        "  graph[v].append(u)\n",
        "\n",
        "# Function to add a weighted edge to a graph\n",
        "def add_weighted_edge(graph, u, v, weight):\n",
        "  graph[u].append((v, weight))\n",
        "  graph[v].append((u, weight))\n",
        "\n",
        "\n",
        "# Function to find the shortest path using BFS (Breadth-First Search)\n",
        "def find_shortest_path(graph, start, end):\n",
        "  queue = [(start, [start])]  # (current_node, path_so_far)\n",
        "  visited = set()\n",
        "\n",
        "  while queue:\n",
        "    (vertex, path) = queue.pop(0)\n",
        "    visited.add(vertex)\n",
        "\n",
        "    if vertex == end:\n",
        "      return path\n",
        "\n",
        "    for neighbor in graph[vertex]:\n",
        "      if neighbor not in visited:\n",
        "        queue.append((neighbor, path + [neighbor]))\n",
        "\n",
        "  return None  # If no path is found\n",
        "\n",
        "\n",
        "# Function to find the neighbors of a node\n",
        "def find_neighbors(graph, node):\n",
        "  return graph[node]\n",
        "\n",
        "\n",
        "# Function to check if an edge exists\n",
        "def edge_exists(graph, u, v):\n",
        "  return v in graph[u]\n",
        "\n",
        "\n",
        "# Example usage:\n",
        "\n",
        "# Create a directed graph\n",
        "directed_graph = defaultdict(list)\n",
        "add_directed_edge(directed_graph, 1, 2)\n",
        "add_directed_edge(directed_graph, 2, 3)\n",
        "add_directed_edge(directed_graph, 3, 4)\n",
        "add_directed_edge(directed_graph, 4, 5)\n",
        "add_directed_edge(directed_graph, 5, 6)\n",
        "add_directed_edge(directed_graph, 6, 7)\n",
        "\n",
        "print(\"Directed Graph:\", directed_graph)\n",
        "\n",
        "# Create an undirected graph\n",
        "undirected_graph = defaultdict(list)\n",
        "add_undirected_edge(undirected_graph, 1, 2)\n",
        "add_undirected_edge(undirected_graph, 2, 3)\n",
        "add_undirected_edge(undirected_graph, 3, 4)\n",
        "add_undirected_edge(undirected_graph, 4, 5)\n",
        "add_undirected_edge(undirected_graph, 5, 6)\n",
        "add_undirected_edge(undirected_graph, 6, 7)\n",
        "\n",
        "print(\"Undirected Graph:\", undirected_graph)\n",
        "\n",
        "# Create a weighted graph\n",
        "weighted_graph = defaultdict(list)\n",
        "add_weighted_edge(weighted_graph, 1, 2, 1)\n",
        "add_weighted_edge(weighted_graph, 2, 3, 2)\n",
        "add_weighted_edge(weighted_graph, 3, 4, 3)\n",
        "add_weighted_edge(weighted_graph, 4, 5, 4)\n",
        "add_weighted_edge(weighted_graph, 5, 6, 5)\n",
        "add_weighted_edge(weighted_graph, 6, 7, 6)\n",
        "\n",
        "print(\"Weighted Graph:\", weighted_graph)\n",
        "\n",
        "# Find shortest path\n",
        "shortest_path = find_shortest_path(undirected_graph, 1, 7)\n",
        "print(\"Shortest path from 1 to 7:\", shortest_path)\n",
        "\n",
        "# Find neighbors of a node\n",
        "neighbors = find_neighbors(undirected_graph, 3)\n",
        "print(\"Neighbors of node 3:\", neighbors)\n",
        "\n",
        "# Check if an edge exists\n",
        "edge_present = edge_exists(undirected_graph, 1, 2)\n",
        "print(\"Edge between 1 and 2 exists:\", edge_present)\n"
      ]
    },
    {
      "cell_type": "code",
      "source": [
        "# Directed Graph\n",
        "graph = {\n",
        "    'A': ['B', 'C'],\n",
        "    'B': ['D'],\n",
        "    'C': ['E'],\n",
        "    'D': ['C', 'E'],\n",
        "    'E': []\n",
        "}\n",
        "def find_path(graph, start, end, path=[]):\n",
        "    path = path + [start]  # Add current node to the path\n",
        "    # print(path)\n",
        "\n",
        "\n",
        "    if start == end:\n",
        "        return path\n",
        "\n",
        "    if start not in graph:\n",
        "        return None\n",
        "\n",
        "    for node in graph[start]:\n",
        "        # print(node) returs values of key\n",
        "        if node not in path:  # Avoid cycles\n",
        "            newpath = find_path(graph, node, end, path)\n",
        "            if newpath:\n",
        "                return newpath  # Return as soon as a path is found\n",
        "    return None\n",
        "\n",
        "print(find_path(graph, 'D', 'E'))\n",
        "# print(graph['A']) returns values\n"
      ],
      "metadata": {
        "colab": {
          "base_uri": "https://localhost:8080/"
        },
        "id": "NB3UaC0qqs6V",
        "outputId": "1b2e5631-07cb-4d8a-811d-35fe73d5abfc"
      },
      "id": "NB3UaC0qqs6V",
      "execution_count": null,
      "outputs": [
        {
          "output_type": "stream",
          "name": "stdout",
          "text": [
            "['D', 'C', 'E']\n"
          ]
        }
      ]
    },
    {
      "cell_type": "code",
      "source": [],
      "metadata": {
        "id": "D01enqAyrKT7"
      },
      "id": "D01enqAyrKT7",
      "execution_count": null,
      "outputs": []
    }
  ],
  "metadata": {
    "kernelspec": {
      "display_name": "Python 3 (ipykernel)",
      "language": "python",
      "name": "python3"
    },
    "language_info": {
      "codemirror_mode": {
        "name": "ipython",
        "version": 3
      },
      "file_extension": ".py",
      "mimetype": "text/x-python",
      "name": "python",
      "nbconvert_exporter": "python",
      "pygments_lexer": "ipython3",
      "version": "3.12.4"
    },
    "colab": {
      "provenance": [],
      "include_colab_link": true
    }
  },
  "nbformat": 4,
  "nbformat_minor": 5
}