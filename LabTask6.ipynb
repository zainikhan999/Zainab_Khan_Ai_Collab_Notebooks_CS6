{
  "nbformat": 4,
  "nbformat_minor": 0,
  "metadata": {
    "colab": {
      "provenance": [],
      "authorship_tag": "ABX9TyNYGbWFYEFKc6AOxkQy84qB",
      "include_colab_link": true
    },
    "kernelspec": {
      "name": "python3",
      "display_name": "Python 3"
    },
    "language_info": {
      "name": "python"
    }
  },
  "cells": [
    {
      "cell_type": "markdown",
      "metadata": {
        "id": "view-in-github",
        "colab_type": "text"
      },
      "source": [
        "<a href=\"https://colab.research.google.com/github/zainikhan999/Zainab_Khan_Ai_Collab_Notebooks_CS6/blob/main/LabTask6.ipynb\" target=\"_parent\"><img src=\"https://colab.research.google.com/assets/colab-badge.svg\" alt=\"Open In Colab\"/></a>"
      ]
    },
    {
      "cell_type": "code",
      "source": [
        "a=10\n",
        "print(f\"value is {a}\")"
      ],
      "metadata": {
        "colab": {
          "base_uri": "https://localhost:8080/"
        },
        "id": "1V_5BuB1SFRC",
        "outputId": "a7aa086d-2578-4c0c-d299-e0646f3320fe"
      },
      "execution_count": null,
      "outputs": [
        {
          "output_type": "stream",
          "name": "stdout",
          "text": [
            "value is 10\n"
          ]
        }
      ]
    },
    {
      "cell_type": "code",
      "source": [
        "# prompt: generate random values from 0-4\n",
        "\n",
        "import random\n",
        "\n",
        "random_value = random.randint(0, 4)\n",
        "\n",
        "print(random_value)\n"
      ],
      "metadata": {
        "colab": {
          "base_uri": "https://localhost:8080/"
        },
        "id": "a9LVn5afSruo",
        "outputId": "c204875a-44e9-4f5d-c044-0412eef91417"
      },
      "execution_count": null,
      "outputs": [
        {
          "output_type": "stream",
          "name": "stdout",
          "text": [
            "4\n"
          ]
        }
      ]
    },
    {
      "cell_type": "code",
      "source": [
        "import random\n",
        "class Environment:\n",
        "    def __init__(self):\n",
        "        # Initialize location conditions randomly (0: clean, 1: dirty)\n",
        "        self.locationCondition = {\n",
        "            'A': random.randint(0, 1),  # 1 means dirty, 0 means clean   #dictionary\n",
        "            'B': random.randint(0, 1)\n",
        "        }\n",
        "class SimpleReflexVacuumAgent:\n",
        "    def __init__(self, environment):\n",
        "        self.environment = environment\n",
        "        self.score = 0\n",
        "        self.vacuumLocation = random.randint(0, 1)\n",
        "\n",
        "        # Display the initial condition of the environment\n",
        "        print(\"Initial environment conditions:\", self.environment.locationCondition)\n",
        "\n",
        "        # Perform cleaning based on vacuum location\n",
        "        if self.vacuumLocation == 0:\n",
        "            print(\"Vacuum is randomly placed at Location A.\")\n",
        "            self.clean_location('A')\n",
        "            self.move_and_clean('B')\n",
        "        else:\n",
        "            print(\"Vacuum is randomly placed at Location B.\")\n",
        "            self.clean_location('B')\n",
        "            self.move_and_clean('A')\n",
        "\n",
        "        # Output final conditions and score\n",
        "        print(\"Final environment conditions:\", self.environment.locationCondition)\n",
        "        print(\"Performance Measurement: \" + str(self.score))\n",
        "\n",
        "    def clean_location(self, location):\n",
        "        print(f\"Location {location} is {'Dirty' if self.environment.locationCondition[location] == 1 else 'Clean'}.\")\n",
        "        if self.environment.locationCondition[location] == 1:  # If dirty\n",
        "            self.environment.locationCondition[location] = 0  # Clean the location\n",
        "            self.score += 1\n",
        "            print(f\"Location {location} has been Cleaned.\")\n",
        "        else:\n",
        "            print(f\"Location {location} is already Clean.\")\n",
        "\n",
        "    def move_and_clean(self, location):\n",
        "        print(f\"Moving to Location {location}...\")\n",
        "        self.clean_location(location)\n",
        "\n",
        "# Create an environment and a vacuum agent\n",
        "theEnvironment = Environment()\n",
        "theVacuum = SimpleReflexVacuumAgent(theEnvironment)\n"
      ],
      "metadata": {
        "id": "K7GK6AY1SyXX",
        "colab": {
          "base_uri": "https://localhost:8080/"
        },
        "outputId": "0bf1040c-444e-45b7-d896-8b502e732434"
      },
      "execution_count": null,
      "outputs": [
        {
          "output_type": "stream",
          "name": "stdout",
          "text": [
            "Initial environment conditions: {'A': 1, 'B': 1}\n",
            "Vacuum is randomly placed at Location B.\n",
            "Location B is Dirty.\n",
            "Location B has been Cleaned.\n",
            "Moving to Location A...\n",
            "Location A is Dirty.\n",
            "Location A has been Cleaned.\n",
            "Final environment conditions: {'A': 0, 'B': 0}\n",
            "Performance Measurement: 2\n"
          ]
        }
      ]
    },
    {
      "cell_type": "code",
      "source": [
        "\n",
        "import random\n",
        "\n",
        "class Environment:\n",
        "    def __init__(self):\n",
        "        # Initialize location conditions randomly (0: clean, 1: dirty)\n",
        "        self.locationCondition = {\n",
        "            'A': random.randint(0, 1),\n",
        "            'B': random.randint(0, 1),\n",
        "            'C': random.randint(0, 1),\n",
        "            'D': random.randint(0, 1)\n",
        "        }\n",
        "\n",
        "class SimpleReflexVacuumAgent:\n",
        "    def __init__(self, environment):\n",
        "        self.environment = environment\n",
        "        self.score = 0\n",
        "        self.vacuumLocation = random.choice(['A', 'B', 'C', 'D'])  # Randomly place the vacuum in one of the four locations\n",
        "\n",
        "        # Display the initial condition of the environment, this will show what values are there in the class\n",
        "        print(\"Initial environment conditions:\", self.environment.locationCondition)\n",
        "\n",
        "        # Perform cleaning based on vacuum location, the vacuum location is being selected randomly as it is an agent\n",
        "        self.clean_location(self.vacuumLocation)\n",
        "\n",
        "        # Move to other locations and clean\n",
        "        locations = ['A', 'B', 'C', 'D']\n",
        "        locations.remove(self.vacuumLocation)\n",
        "        for location in locations:\n",
        "            self.move_and_clean(location)\n",
        "\n",
        "        # Output final conditions and score\n",
        "        print(\"Final environment conditions:\", self.environment.locationCondition)\n",
        "        print(\"Performance Measurement: \" + str(self.score))\n",
        "\n",
        "    def clean_location(self, location):\n",
        "        print(f\"Location {location} is {'Dirty' if self.environment.locationCondition[location] == 1 else 'Clean'}.\")\n",
        "        if self.environment.locationCondition[location] == 1:  # If dirty\n",
        "            self.environment.locationCondition[location] = 0  # Clean the location\n",
        "            self.score += 1\n",
        "            print(f\"Location {location} has been Cleaned.\")\n",
        "        else:\n",
        "            print(f\"Location {location} is already Clean.\")\n",
        "\n",
        "    def move_and_clean(self, location):\n",
        "        #the function is called above , that is a for loop that will first remove the selected location and will move and clean on the remaining\n",
        "        print(f\"Moving to Location {location}...\")\n",
        "        self.clean_location(location)\n",
        "\n",
        "# Create an environment and a vacuum agent\n",
        "theEnvir = Environment()\n",
        "theVacuum = SimpleReflexVacuumAgent(theEnvironment)\n"
      ],
      "metadata": {
        "colab": {
          "base_uri": "https://localhost:8080/"
        },
        "id": "cFnGToRtXqqM",
        "outputId": "b0611e21-1398-4ece-9572-d4075730bbbe"
      },
      "execution_count": null,
      "outputs": [
        {
          "output_type": "stream",
          "name": "stdout",
          "text": [
            "Initial environment conditions: {'A': 1, 'B': 1, 'C': 1, 'D': 0}\n",
            "Location D is Clean.\n",
            "Location D is already Clean.\n",
            "Moving to Location A...\n",
            "Location A is Dirty.\n",
            "Location A has been Cleaned.\n",
            "Moving to Location B...\n",
            "Location B is Dirty.\n",
            "Location B has been Cleaned.\n",
            "Moving to Location C...\n",
            "Location C is Dirty.\n",
            "Location C has been Cleaned.\n",
            "Final environment conditions: {'A': 0, 'B': 0, 'C': 0, 'D': 0}\n",
            "Performance Measurement: 3\n"
          ]
        }
      ]
    },
    {
      "cell_type": "code",
      "source": [
        "abc = random.choice(['A', 'B', 'C', 'D'])\n",
        "print(abc)"
      ],
      "metadata": {
        "colab": {
          "base_uri": "https://localhost:8080/"
        },
        "id": "aoym6Mq9YdnM",
        "outputId": "645e7d08-e4a6-432e-e5c9-fefe8393e033"
      },
      "execution_count": null,
      "outputs": [
        {
          "output_type": "stream",
          "name": "stdout",
          "text": [
            "C\n"
          ]
        }
      ]
    },
    {
      "cell_type": "code",
      "source": [
        "# Move to other locations and clean\n",
        "locations = ['A', 'B', 'C', 'D']\n",
        "locations.remove(\"C\")\n",
        "print(locations)"
      ],
      "metadata": {
        "colab": {
          "base_uri": "https://localhost:8080/"
        },
        "id": "PLD8tMo7ZKK7",
        "outputId": "64e32990-3a61-420a-efd4-0fde702392fe"
      },
      "execution_count": null,
      "outputs": [
        {
          "output_type": "stream",
          "name": "stdout",
          "text": [
            "['A', 'B', 'D']\n"
          ]
        }
      ]
    },
    {
      "cell_type": "code",
      "source": [],
      "metadata": {
        "id": "1WApZo2Wtn1S"
      },
      "execution_count": null,
      "outputs": []
    }
  ]
}